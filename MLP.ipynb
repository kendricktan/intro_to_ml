{
 "cells": [
  {
   "cell_type": "code",
   "execution_count": null,
   "metadata": {},
   "outputs": [],
   "source": [
    "import torch\n",
    "import torch.nn as nn\n",
    "import torch.nn.functional as F\n",
    "import torch.optim as optim\n",
    "\n",
    "from torchvision import datasets, transforms\n",
    "from torch.autograd import Variable\n",
    "\n",
    "from tqdm import tqdm"
   ]
  },
  {
   "cell_type": "code",
   "execution_count": null,
   "metadata": {},
   "outputs": [],
   "source": [
    "EPOCH = 2\n",
    "CUDA = True\n",
    "BATCH_SIZE = 8\n",
    "\n",
    "# Data keyword-arguments\n",
    "kwargs = {'num_workers': 1, 'pin_memory': True} if CUDA else {}\n",
    "\n",
    "# Getting our training and testing dataset\n",
    "train_dataset = datasets.MNIST(\n",
    "    './data', train=True, download=True,\n",
    "    transform=transforms.Compose([\n",
    "       transforms.ToTensor(),\n",
    "       transforms.Normalize((0.1307,), (0.3081,))\n",
    "   ])\n",
    ")\n",
    "train_loader = torch.utils.data.DataLoader(\n",
    "    train_dataset, batch_size=BATCH_SIZE, shuffle=True, **kwargs\n",
    ")\n",
    "\n",
    "test_loader = torch.utils.data.DataLoader(\n",
    "    datasets.MNIST('./data', train=False, transform=transforms.Compose([\n",
    "                       transforms.ToTensor(),\n",
    "                       transforms.Normalize((0.1307,), (0.3081,))\n",
    "                   ])),\n",
    "    batch_size=BATCH_SIZE, shuffle=True, **kwargs)"
   ]
  },
  {
   "cell_type": "code",
   "execution_count": null,
   "metadata": {},
   "outputs": [],
   "source": [
    "# This is where we architect our neural network\n",
    "\n",
    "# Remember to show how MNIST data looks like etc, etc\n",
    "\n",
    "class MyNetwork(nn.Module):\n",
    "    def __init__(self):\n",
    "        super().__init__()\n",
    "    \n",
    "    def forward(self, x):\n",
    "        pass"
   ]
  },
  {
   "cell_type": "code",
   "execution_count": null,
   "metadata": {},
   "outputs": [],
   "source": [
    "model = MyNetwork()\n",
    "\n",
    "if CUDA:\n",
    "    model = model.cuda()\n",
    "\n",
    "optimizer = optim.Adam(model.parameters(), lr=1e-3)\n",
    "\n",
    "for e in range(EPOCH):\n",
    "    for idx, (x, target) in enumerate(train_loader):\n",
    "        # Reset gradients in the optimizer\n",
    "        optimizer.zero_grad()\n",
    "        \n",
    "        # Pass new input through network\n",
    "        # Get prediction\n",
    "        x = Variable(x)\n",
    "        target = Variable(target)\n",
    "        \n",
    "        if CUDA:\n",
    "            x = x.cuda()\n",
    "            target = target.cuda()\n",
    "        \n",
    "        x = x.view(-1, 784)\n",
    "        x_pred = model(x)\n",
    "        \n",
    "        # Get Negative-Log-Likelihood error from prediction and ground truth\n",
    "        # A.k.a get the gradients needed to update network\n",
    "        loss = F.nll_loss(x_pred, target)\n",
    "        loss.backward()\n",
    "        \n",
    "        # Backprop\n",
    "        optimizer.step()\n",
    "        \n",
    "        # Prediciton stuff\n",
    "        # pred = x_pred.data.max(1, keepdim=True)[1]\n",
    "        \n",
    "        if idx % 100 == 0:\n",
    "            print('Epoch: {}, [{}/{}], Loss: {}'.format(e, idx, len(train_loader), loss.data[0]))"
   ]
  }
 ],
 "metadata": {
  "kernelspec": {
   "display_name": "Python 3",
   "language": "python",
   "name": "python3"
  },
  "language_info": {
   "codemirror_mode": {
    "name": "ipython",
    "version": 3
   },
   "file_extension": ".py",
   "mimetype": "text/x-python",
   "name": "python",
   "nbconvert_exporter": "python",
   "pygments_lexer": "ipython3",
   "version": "3.6.3"
  }
 },
 "nbformat": 4,
 "nbformat_minor": 2
}
